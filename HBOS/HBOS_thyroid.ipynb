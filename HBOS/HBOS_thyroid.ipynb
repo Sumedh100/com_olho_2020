{
 "cells": [
  {
   "cell_type": "markdown",
   "metadata": {},
   "source": [
    "# HBOS Thyroid Data"
   ]
  },
  {
   "cell_type": "code",
   "execution_count": 2,
   "metadata": {},
   "outputs": [],
   "source": [
    "import numpy as np\n",
    "import pandas as pd\n",
    "import seaborn as sns\n",
    "import matplotlib.pyplot as plt\n",
    "%matplotlib inline\n",
    "from pyod.models.knn import KNN\n",
    "from pyod.models.hbos import HBOS\n",
    "from sklearn.preprocessing import StandardScaler\n",
    "from sklearn.model_selection import train_test_split"
   ]
  },
  {
   "cell_type": "code",
   "execution_count": 3,
   "metadata": {},
   "outputs": [],
   "source": [
    "def get_excel_columns(n_cols):\n",
    "    col_list = []\n",
    "    n = n_cols\n",
    "    alpha_list = [chr(c) for c in range(ord('A'), ord('Z') + 1)]\n",
    "    alpha_list.insert(0,'dummy')\n",
    "    for i in range(1,n+1):\n",
    "        col_i = \"\"\n",
    "        index_list=[]\n",
    "        p=[]\n",
    "        while i>26:\n",
    "            k = i%26\n",
    "            i = i//26\n",
    "            if k==0:\n",
    "                index_list.append(26)\n",
    "                i = i-1\n",
    "            else:\n",
    "                index_list.append(k)\n",
    "        index_list.append(int(i))\n",
    "        index_list.reverse()\n",
    "        for i in index_list:\n",
    "            p.append(alpha_list[i])\n",
    "            col_i = \"\".join(p)\n",
    "        col_list.append(col_i)\n",
    "    return col_list"
   ]
  },
  {
   "cell_type": "code",
   "execution_count": 4,
   "metadata": {},
   "outputs": [
    {
     "name": "stdout",
     "output_type": "stream",
     "text": [
      "(6916, 22)\n"
     ]
    },
    {
     "data": {
      "text/html": [
       "<div>\n",
       "<style scoped>\n",
       "    .dataframe tbody tr th:only-of-type {\n",
       "        vertical-align: middle;\n",
       "    }\n",
       "\n",
       "    .dataframe tbody tr th {\n",
       "        vertical-align: top;\n",
       "    }\n",
       "\n",
       "    .dataframe thead th {\n",
       "        text-align: right;\n",
       "    }\n",
       "</style>\n",
       "<table border=\"1\" class=\"dataframe\">\n",
       "  <thead>\n",
       "    <tr style=\"text-align: right;\">\n",
       "      <th></th>\n",
       "      <th>A</th>\n",
       "      <th>B</th>\n",
       "      <th>C</th>\n",
       "      <th>D</th>\n",
       "      <th>E</th>\n",
       "      <th>F</th>\n",
       "      <th>G</th>\n",
       "      <th>H</th>\n",
       "      <th>I</th>\n",
       "      <th>J</th>\n",
       "      <th>...</th>\n",
       "      <th>M</th>\n",
       "      <th>N</th>\n",
       "      <th>O</th>\n",
       "      <th>P</th>\n",
       "      <th>Q</th>\n",
       "      <th>R</th>\n",
       "      <th>S</th>\n",
       "      <th>T</th>\n",
       "      <th>U</th>\n",
       "      <th>V</th>\n",
       "    </tr>\n",
       "  </thead>\n",
       "  <tbody>\n",
       "    <tr>\n",
       "      <th>0</th>\n",
       "      <td>0.45</td>\n",
       "      <td>1.0</td>\n",
       "      <td>0.0</td>\n",
       "      <td>0.0</td>\n",
       "      <td>0.0</td>\n",
       "      <td>0.0</td>\n",
       "      <td>0.0</td>\n",
       "      <td>0.0</td>\n",
       "      <td>0.0</td>\n",
       "      <td>0.0</td>\n",
       "      <td>...</td>\n",
       "      <td>0.0</td>\n",
       "      <td>0.0</td>\n",
       "      <td>0.0</td>\n",
       "      <td>0.0</td>\n",
       "      <td>0.061</td>\n",
       "      <td>0.006</td>\n",
       "      <td>0.023</td>\n",
       "      <td>0.087</td>\n",
       "      <td>0.026</td>\n",
       "      <td>o</td>\n",
       "    </tr>\n",
       "    <tr>\n",
       "      <th>1</th>\n",
       "      <td>0.61</td>\n",
       "      <td>0.0</td>\n",
       "      <td>0.0</td>\n",
       "      <td>0.0</td>\n",
       "      <td>0.0</td>\n",
       "      <td>1.0</td>\n",
       "      <td>0.0</td>\n",
       "      <td>0.0</td>\n",
       "      <td>0.0</td>\n",
       "      <td>0.0</td>\n",
       "      <td>...</td>\n",
       "      <td>0.0</td>\n",
       "      <td>0.0</td>\n",
       "      <td>0.0</td>\n",
       "      <td>0.0</td>\n",
       "      <td>0.029</td>\n",
       "      <td>0.015</td>\n",
       "      <td>0.061</td>\n",
       "      <td>0.096</td>\n",
       "      <td>0.064</td>\n",
       "      <td>o</td>\n",
       "    </tr>\n",
       "    <tr>\n",
       "      <th>2</th>\n",
       "      <td>0.16</td>\n",
       "      <td>0.0</td>\n",
       "      <td>1.0</td>\n",
       "      <td>0.0</td>\n",
       "      <td>0.0</td>\n",
       "      <td>0.0</td>\n",
       "      <td>0.0</td>\n",
       "      <td>0.0</td>\n",
       "      <td>0.0</td>\n",
       "      <td>0.0</td>\n",
       "      <td>...</td>\n",
       "      <td>0.0</td>\n",
       "      <td>1.0</td>\n",
       "      <td>0.0</td>\n",
       "      <td>0.0</td>\n",
       "      <td>0.029</td>\n",
       "      <td>0.019</td>\n",
       "      <td>0.058</td>\n",
       "      <td>0.103</td>\n",
       "      <td>0.056</td>\n",
       "      <td>o</td>\n",
       "    </tr>\n",
       "    <tr>\n",
       "      <th>3</th>\n",
       "      <td>0.85</td>\n",
       "      <td>0.0</td>\n",
       "      <td>0.0</td>\n",
       "      <td>0.0</td>\n",
       "      <td>0.0</td>\n",
       "      <td>0.0</td>\n",
       "      <td>0.0</td>\n",
       "      <td>0.0</td>\n",
       "      <td>0.0</td>\n",
       "      <td>0.0</td>\n",
       "      <td>...</td>\n",
       "      <td>0.0</td>\n",
       "      <td>0.0</td>\n",
       "      <td>0.0</td>\n",
       "      <td>0.0</td>\n",
       "      <td>0.114</td>\n",
       "      <td>0.003</td>\n",
       "      <td>0.024</td>\n",
       "      <td>0.061</td>\n",
       "      <td>0.039</td>\n",
       "      <td>o</td>\n",
       "    </tr>\n",
       "    <tr>\n",
       "      <th>4</th>\n",
       "      <td>0.75</td>\n",
       "      <td>1.0</td>\n",
       "      <td>0.0</td>\n",
       "      <td>0.0</td>\n",
       "      <td>0.0</td>\n",
       "      <td>0.0</td>\n",
       "      <td>0.0</td>\n",
       "      <td>0.0</td>\n",
       "      <td>0.0</td>\n",
       "      <td>0.0</td>\n",
       "      <td>...</td>\n",
       "      <td>0.0</td>\n",
       "      <td>0.0</td>\n",
       "      <td>0.0</td>\n",
       "      <td>0.0</td>\n",
       "      <td>0.049</td>\n",
       "      <td>0.003</td>\n",
       "      <td>0.005</td>\n",
       "      <td>0.116</td>\n",
       "      <td>0.004</td>\n",
       "      <td>o</td>\n",
       "    </tr>\n",
       "  </tbody>\n",
       "</table>\n",
       "<p>5 rows × 22 columns</p>\n",
       "</div>"
      ],
      "text/plain": [
       "      A    B    C    D    E    F    G    H    I    J  ...    M    N    O    P  \\\n",
       "0  0.45  1.0  0.0  0.0  0.0  0.0  0.0  0.0  0.0  0.0  ...  0.0  0.0  0.0  0.0   \n",
       "1  0.61  0.0  0.0  0.0  0.0  1.0  0.0  0.0  0.0  0.0  ...  0.0  0.0  0.0  0.0   \n",
       "2  0.16  0.0  1.0  0.0  0.0  0.0  0.0  0.0  0.0  0.0  ...  0.0  1.0  0.0  0.0   \n",
       "3  0.85  0.0  0.0  0.0  0.0  0.0  0.0  0.0  0.0  0.0  ...  0.0  0.0  0.0  0.0   \n",
       "4  0.75  1.0  0.0  0.0  0.0  0.0  0.0  0.0  0.0  0.0  ...  0.0  0.0  0.0  0.0   \n",
       "\n",
       "       Q      R      S      T      U  V  \n",
       "0  0.061  0.006  0.023  0.087  0.026  o  \n",
       "1  0.029  0.015  0.061  0.096  0.064  o  \n",
       "2  0.029  0.019  0.058  0.103  0.056  o  \n",
       "3  0.114  0.003  0.024  0.061  0.039  o  \n",
       "4  0.049  0.003  0.005  0.116  0.004  o  \n",
       "\n",
       "[5 rows x 22 columns]"
      ]
     },
     "execution_count": 4,
     "metadata": {},
     "output_type": "execute_result"
    }
   ],
   "source": [
    "df = pd.read_csv(\"thyroid.csv\", header = None)\n",
    "df.columns = get_excel_columns(len(df.columns))\n",
    "print(df.shape)\n",
    "df.head()"
   ]
  },
  {
   "cell_type": "markdown",
   "metadata": {},
   "source": [
    "## Train - Test Split"
   ]
  },
  {
   "cell_type": "code",
   "execution_count": 5,
   "metadata": {},
   "outputs": [
    {
     "data": {
      "text/plain": [
       "array([[0.45 , 1.   , 0.   , 0.   , 0.   , 0.   , 0.   , 0.   , 0.   ,\n",
       "        0.   , 0.   , 0.   , 0.   , 0.   , 0.   , 0.   , 0.061, 0.006,\n",
       "        0.023, 0.087, 0.026],\n",
       "       [0.61 , 0.   , 0.   , 0.   , 0.   , 1.   , 0.   , 0.   , 0.   ,\n",
       "        0.   , 0.   , 0.   , 0.   , 0.   , 0.   , 0.   , 0.029, 0.015,\n",
       "        0.061, 0.096, 0.064],\n",
       "       [0.16 , 0.   , 1.   , 0.   , 0.   , 0.   , 0.   , 0.   , 0.   ,\n",
       "        0.   , 0.   , 0.   , 0.   , 1.   , 0.   , 0.   , 0.029, 0.019,\n",
       "        0.058, 0.103, 0.056],\n",
       "       [0.85 , 0.   , 0.   , 0.   , 0.   , 0.   , 0.   , 0.   , 0.   ,\n",
       "        0.   , 0.   , 0.   , 0.   , 0.   , 0.   , 0.   , 0.114, 0.003,\n",
       "        0.024, 0.061, 0.039],\n",
       "       [0.75 , 1.   , 0.   , 0.   , 0.   , 0.   , 0.   , 0.   , 0.   ,\n",
       "        0.   , 0.   , 0.   , 0.   , 0.   , 0.   , 0.   , 0.049, 0.003,\n",
       "        0.005, 0.116, 0.004]])"
      ]
     },
     "execution_count": 5,
     "metadata": {},
     "output_type": "execute_result"
    }
   ],
   "source": [
    "X = df[get_excel_columns(len(df.columns)-1)].values.astype(float)\n",
    "X[0:5]"
   ]
  },
  {
   "cell_type": "code",
   "execution_count": 6,
   "metadata": {},
   "outputs": [
    {
     "data": {
      "text/plain": [
       "array([[-0.37381409,  1.50050924, -0.39440532, -0.12595114, -0.11547005,\n",
       "        -0.1996087 , -0.10680283, -0.12050941, -0.13060943, -0.25875595,\n",
       "        -0.27309428, -0.11482544, -0.09275961, -0.16159443, -0.01202552,\n",
       "        -0.22878653,  3.53097966, -1.89580666, -2.49798316, -0.55943924,\n",
       "        -2.52374039],\n",
       "       [ 0.47207276, -0.66644042, -0.39440532, -0.12595114, -0.11547005,\n",
       "         5.00980171, -0.10680283, -0.12050941, -0.13060943, -0.25875595,\n",
       "        -0.27309428, -0.11482544, -0.09275961, -0.16159443, -0.01202552,\n",
       "        -0.22878653,  1.56865643, -0.69296527, -1.41857341, -0.08886888,\n",
       "        -1.44467614],\n",
       "       [-1.90698403, -0.66644042,  2.53546276, -0.12595114, -0.11547005,\n",
       "        -0.1996087 , -0.10680283, -0.12050941, -0.13060943, -0.25875595,\n",
       "        -0.27309428, -0.11482544, -0.09275961,  6.18833213, -0.01202552,\n",
       "        -0.22878653,  1.56865643, -0.15836909, -1.50378997,  0.27713029,\n",
       "        -1.67184756],\n",
       "       [ 1.74090305, -0.66644042, -0.39440532, -0.12595114, -0.11547005,\n",
       "        -0.1996087 , -0.10680283, -0.12050941, -0.13060943, -0.25875595,\n",
       "        -0.27309428, -0.11482544, -0.09275961, -0.16159443, -0.01202552,\n",
       "        -0.22878653,  6.78107751, -2.29675379, -2.46957764, -1.91886473,\n",
       "        -2.15458683],\n",
       "       [ 1.21222377,  1.50050924, -0.39440532, -0.12595114, -0.11547005,\n",
       "        -0.1996087 , -0.10680283, -0.12050941, -0.13060943, -0.25875595,\n",
       "        -0.27309428, -0.11482544, -0.09275961, -0.16159443, -0.01202552,\n",
       "        -0.22878653,  2.79510845, -2.29675379, -3.00928251,  0.95684303,\n",
       "        -3.1484618 ]])"
      ]
     },
     "execution_count": 6,
     "metadata": {},
     "output_type": "execute_result"
    }
   ],
   "source": [
    "X = StandardScaler().fit(X).transform(X.astype(float))\n",
    "X[0:5]"
   ]
  },
  {
   "cell_type": "code",
   "execution_count": 7,
   "metadata": {},
   "outputs": [
    {
     "data": {
      "text/plain": [
       "6916"
      ]
     },
     "execution_count": 7,
     "metadata": {},
     "output_type": "execute_result"
    }
   ],
   "source": [
    "y = df.iloc[:,-1]\n",
    "len(y)"
   ]
  },
  {
   "cell_type": "code",
   "execution_count": 8,
   "metadata": {},
   "outputs": [
    {
     "name": "stdout",
     "output_type": "stream",
     "text": [
      "Train set :  (5532, 21) (5532,)\n",
      "Test set :  (1384, 21) (1384,)\n"
     ]
    }
   ],
   "source": [
    "X_train, X_test, y_train, y_test = train_test_split(X, y, test_size = 0.2, random_state = 4)\n",
    "print(\"Train set : \", X_train.shape, y_train.shape)\n",
    "print(\"Test set : \", X_test.shape, y_test.shape)"
   ]
  },
  {
   "cell_type": "code",
   "execution_count": 9,
   "metadata": {},
   "outputs": [],
   "source": [
    "y_test_array = y_test.to_numpy().astype(str)\n",
    "y_test_array = np.where(y_test_array == 'n', 0, 1)"
   ]
  },
  {
   "cell_type": "markdown",
   "metadata": {},
   "source": [
    "## Testing on different n_bins"
   ]
  },
  {
   "cell_type": "code",
   "execution_count": 26,
   "metadata": {},
   "outputs": [
    {
     "name": "stdout",
     "output_type": "stream",
     "text": [
      "[48, 156, 176, 181, 176, 190, 180, 164, 170, 162, 160, 160, 165, 166, 165, 160, 172, 174, 169, 165, 164, 169, 164, 163, 169, 171, 167, 163, 161, 164, 166, 162, 162, 163, 170, 167, 168, 157, 159, 161, 162, 159, 164, 165, 156, 160, 161, 161, 162, 161]\n",
      "[0.9653179190751445, 0.8872832369942196, 0.8728323699421965, 0.8692196531791907, 0.8728323699421965, 0.8627167630057804, 0.869942196531792, 0.8815028901734104, 0.8771676300578035, 0.8829479768786127, 0.884393063583815, 0.884393063583815, 0.8807803468208093, 0.880057803468208, 0.8807803468208093, 0.884393063583815, 0.8757225433526011, 0.8742774566473989, 0.8778901734104047, 0.8807803468208093, 0.8815028901734104, 0.8778901734104047, 0.8815028901734104, 0.8822254335260116, 0.8778901734104047, 0.8764450867052023, 0.8793352601156069, 0.8822254335260116, 0.8836705202312138, 0.8815028901734104, 0.880057803468208, 0.8829479768786127, 0.8829479768786127, 0.8822254335260116, 0.8771676300578035, 0.8793352601156069, 0.8786127167630058, 0.8865606936416185, 0.8851156069364162, 0.8836705202312138, 0.8829479768786127, 0.8851156069364162, 0.8815028901734104, 0.8807803468208093, 0.8872832369942196, 0.884393063583815, 0.8836705202312138, 0.8836705202312138, 0.8829479768786127, 0.8836705202312138]\n",
      "[0.03468208092485549, 0.11271676300578035, 0.12716763005780346, 0.13078034682080925, 0.12716763005780346, 0.13728323699421965, 0.13005780346820808, 0.11849710982658959, 0.12283236994219653, 0.11705202312138728, 0.11560693641618497, 0.11560693641618497, 0.11921965317919075, 0.1199421965317919, 0.11921965317919075, 0.11560693641618497, 0.12427745664739884, 0.12572254335260116, 0.12210982658959538, 0.11921965317919075, 0.11849710982658959, 0.12210982658959538, 0.11849710982658959, 0.11777456647398844, 0.12210982658959538, 0.12355491329479769, 0.12066473988439307, 0.11777456647398844, 0.11632947976878613, 0.11849710982658959, 0.1199421965317919, 0.11705202312138728, 0.11705202312138728, 0.11777456647398844, 0.12283236994219653, 0.12066473988439307, 0.12138728323699421, 0.11343930635838151, 0.11488439306358382, 0.11632947976878613, 0.11705202312138728, 0.11488439306358382, 0.11849710982658959, 0.11921965317919075, 0.11271676300578035, 0.11560693641618497, 0.11632947976878613, 0.11632947976878613, 0.11705202312138728, 0.11632947976878613]\n"
     ]
    }
   ],
   "source": [
    "error_list = []\n",
    "accuracy_list= []\n",
    "error_rate = []\n",
    "\n",
    "for i in range(1,51):\n",
    "    h_bows = HBOS(n_bins = i)\n",
    "    h_bows.fit(X_train)\n",
    "    y_hat_i = h_bows.predict(X_test)\n",
    "    n_errors_i = np.count_nonzero(y_hat_i != y_test_array)\n",
    "    error_list.append(n_errors_i)\n",
    "    accuracy_list.append((len(y_test)-n_errors_i)/len(y_test))\n",
    "    error_rate.append(np.mean(y_hat_i != y_test_array))\n",
    "print(error_list)\n",
    "print(accuracy_list)\n",
    "print(error_rate)"
   ]
  },
  {
   "cell_type": "code",
   "execution_count": 11,
   "metadata": {},
   "outputs": [
    {
     "data": {
      "text/plain": [
       "array([0, 0, 0, ..., 0, 0, 0])"
      ]
     },
     "execution_count": 11,
     "metadata": {},
     "output_type": "execute_result"
    }
   ],
   "source": [
    "y_hat_i"
   ]
  },
  {
   "cell_type": "code",
   "execution_count": 12,
   "metadata": {},
   "outputs": [
    {
     "data": {
      "text/plain": [
       "array([0, 0, 0, ..., 0, 0, 0])"
      ]
     },
     "execution_count": 12,
     "metadata": {},
     "output_type": "execute_result"
    }
   ],
   "source": [
    "y_test_array"
   ]
  },
  {
   "cell_type": "code",
   "execution_count": 13,
   "metadata": {},
   "outputs": [
    {
     "data": {
      "image/png": "[encoded data removed]",
      "text/plain": [
       "<matplotlib.figure.Figure at 0x2290c61beb8>"
      ]
     },
     "metadata": {
      "needs_background": "light"
     },
     "output_type": "display_data"
    }
   ],
   "source": [
    "F = sns.lineplot(range(1,51), error_list)"
   ]
  },
  {
   "cell_type": "code",
   "execution_count": 14,
   "metadata": {},
   "outputs": [
    {
     "data": {
      "image/png": "[encoded data removed]",
      "text/plain": [
       "<matplotlib.figure.Figure at 0x2290e3dbb00>"
      ]
     },
     "metadata": {
      "needs_background": "light"
     },
     "output_type": "display_data"
    }
   ],
   "source": [
    "L = sns.lineplot(range(1,51), accuracy_list)"
   ]
  },
  {
   "cell_type": "code",
   "execution_count": 17,
   "metadata": {},
   "outputs": [
    {
     "data": {
      "text/plain": [
       "array([0, 0, 0, ..., 0, 0, 0])"
      ]
     },
     "execution_count": 17,
     "metadata": {},
     "output_type": "execute_result"
    }
   ],
   "source": [
    "hbos1 = HBOS(n_bins = 1)\n",
    "hbos1.fit(X_train)\n",
    "y_hat_1 = hbos1.predict(X_test)\n",
    "y_hat_1"
   ]
  },
  {
   "cell_type": "code",
   "execution_count": 18,
   "metadata": {},
   "outputs": [],
   "source": [
    "from sklearn.metrics import confusion_matrix"
   ]
  },
  {
   "cell_type": "code",
   "execution_count": 19,
   "metadata": {},
   "outputs": [
    {
     "data": {
      "text/plain": [
       "array([[1336,    0],\n",
       "       [  48,    0]], dtype=int64)"
      ]
     },
     "execution_count": 19,
     "metadata": {},
     "output_type": "execute_result"
    }
   ],
   "source": [
    "confusion_matrix(y_test_array, y_hat_1)"
   ]
  },
  {
   "cell_type": "code",
   "execution_count": 22,
   "metadata": {},
   "outputs": [
    {
     "data": {
      "text/plain": [
       "array([0, 0, 0, ..., 0, 0, 0])"
      ]
     },
     "execution_count": 22,
     "metadata": {},
     "output_type": "execute_result"
    }
   ],
   "source": [
    "hbos10 = HBOS(n_bins = 10)\n",
    "hbos10.fit(X_train)\n",
    "y_hat_10 = hbos10.predict(X_test)\n",
    "y_hat_10"
   ]
  },
  {
   "cell_type": "code",
   "execution_count": 23,
   "metadata": {},
   "outputs": [
    {
     "data": {
      "text/plain": [
       "array([[1209,  127],\n",
       "       [  35,   13]], dtype=int64)"
      ]
     },
     "execution_count": 23,
     "metadata": {},
     "output_type": "execute_result"
    }
   ],
   "source": [
    "confusion_matrix(y_test_array, y_hat_10)"
   ]
  },
  {
   "cell_type": "code",
   "execution_count": 24,
   "metadata": {},
   "outputs": [
    {
     "data": {
      "text/plain": [
       "array([0, 0, 0, ..., 0, 0, 1])"
      ]
     },
     "execution_count": 24,
     "metadata": {},
     "output_type": "execute_result"
    }
   ],
   "source": [
    "hbos2 = HBOS(n_bins = 2)\n",
    "hbos2.fit(X_train)\n",
    "y_hat_2 = hbos2.predict(X_test)\n",
    "y_hat_2"
   ]
  },
  {
   "cell_type": "code",
   "execution_count": 25,
   "metadata": {},
   "outputs": [
    {
     "data": {
      "text/plain": [
       "array([[1227,  109],\n",
       "       [  47,    1]], dtype=int64)"
      ]
     },
     "execution_count": 25,
     "metadata": {},
     "output_type": "execute_result"
    }
   ],
   "source": [
    "confusion_matrix(y_test_array, y_hat_2)"
   ]
  },
  {
   "cell_type": "code",
   "execution_count": 27,
   "metadata": {},
   "outputs": [
    {
     "data": {
      "image/png": "[encoded data removed]",
      "text/plain": [
       "<matplotlib.figure.Figure at 0x22910497e80>"
      ]
     },
     "metadata": {
      "needs_background": "light"
     },
     "output_type": "display_data"
    }
   ],
   "source": [
    "ahem = sns.lineplot(range(1,51), error_rate)"
   ]
  },
  {
   "cell_type": "code",
   "execution_count": null,
   "metadata": {},
   "outputs": [],
   "source": []
  }
 ],
 "metadata": {
  "kernelspec": {
   "display_name": "Python 3",
   "language": "python",
   "name": "python3"
  },
  "language_info": {
   "codemirror_mode": {
    "name": "ipython",
    "version": 3
   },
   "file_extension": ".py",
   "mimetype": "text/x-python",
   "name": "python",
   "nbconvert_exporter": "python",
   "pygments_lexer": "ipython3",
   "version": "3.6.4"
  }
 },
 "nbformat": 4,
 "nbformat_minor": 2
}
