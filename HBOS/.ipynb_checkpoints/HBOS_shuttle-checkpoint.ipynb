{
 "cells": [
  {
   "cell_type": "markdown",
   "metadata": {},
   "source": [
    "# Histogram-Based Outlier Search"
   ]
  },
  {
   "cell_type": "markdown",
   "metadata": {},
   "source": [
    "1. For each single feature (dimension), an univariate histogram is constructed first\n",
    "    - If the feature comprises of categorical data, simple counting of the values of each category is performed and the relative frequency (height of the histogram) is computed.\n",
    "    - For numerical features, two different methods can be used:\n",
    "        1. _**Static bin-width histograms**_....\n",
    "        the standard histogram building technique using k equal width bins over the value range. The frequency (relative amount) of samples falling into each bin is used as an estimate of the density (height of the bins)\n",
    "        2. _**Dynamic bin-width histograms**_...values are sorted frst and then a fixed amount of N/k successive values are grouped into a single bin where N is the number of total instances and k the number of bins. Since the area of a bin in a histogram represents the number of observations, it is the same for all bins in our case. Because the width of the bin is defned by the first and the last value and the area is the same for all bins, the height of each individual bin can be computed. This means that bins covering a larger interval of the value range have less height and represent that way a lower density. However, there is one exception: Under certain circumstances, more than k data instances might have exactly the same value, for example if the feature is an integer and a long-tail distribution has to be estimated. In this case, our algorithm must allow to have more than N/k values in the same bin. Of course, the area of these larger bins will grow appropriately.\n",
    "2. Now, for each dimension d, an individual histogram has been computed (regardless if categorical, fixed-width or dynamic-width), where the height of each single bin represents a density estimation. The histograms are then normalized such that the maximum height is 1.0. This ensures an equal weight of each feature to the outlier score.\n",
    "3. height is 1.0. This ensures an equal weight of each feature to the outlier score. Finally, the HBOS of every instance p is calculated using the corresponding height of the bins where the instance is located:\n",
    "    - <img\n"
   ]
  },
  {
   "cell_type": "markdown",
   "metadata": {},
   "source": [
    "# Chaliye Shuru Kartey Hai"
   ]
  },
  {
   "cell_type": "markdown",
   "metadata": {},
   "source": [
    "## Imports"
   ]
  },
  {
   "cell_type": "code",
   "execution_count": 2,
   "metadata": {},
   "outputs": [],
   "source": [
    "import numpy as np\n",
    "import pandas as pd\n",
    "import matplotlib.pyplot as plt\n",
    "import seaborn as sns\n",
    "%matplotlib inline\n",
    "from pyod.models.knn import KNN\n",
    "from pyod.models.hbos import HBOS\n",
    "from sklearn.preprocessing import StandardScaler\n",
    "from sklearn.model_selection import train_test_split"
   ]
  },
  {
   "cell_type": "code",
   "execution_count": 3,
   "metadata": {},
   "outputs": [],
   "source": [
    "def get_excel_columns(n_cols):\n",
    "    col_list = []\n",
    "    n = n_cols\n",
    "    alpha_list = [chr(c) for c in range(ord('A'), ord('Z') + 1)]\n",
    "    alpha_list.insert(0,'dummy')\n",
    "    for i in range(1,n+1):\n",
    "        col_i = \"\"\n",
    "        index_list=[]\n",
    "        p=[]\n",
    "        while i>26:\n",
    "            k = i%26\n",
    "            i = i//26\n",
    "            if k==0:\n",
    "                index_list.append(26)\n",
    "                i = i-1\n",
    "            else:\n",
    "                index_list.append(k)\n",
    "        index_list.append(int(i))\n",
    "        index_list.reverse()\n",
    "        for i in index_list:\n",
    "            p.append(alpha_list[i])\n",
    "            col_i = \"\".join(p)\n",
    "        col_list.append(col_i)\n",
    "    return col_list"
   ]
  },
  {
   "cell_type": "code",
   "execution_count": 4,
   "metadata": {},
   "outputs": [
    {
     "name": "stdout",
     "output_type": "stream",
     "text": [
      "(46464, 10)\n"
     ]
    },
    {
     "data": {
      "text/html": [
       "<div>\n",
       "<style scoped>\n",
       "    .dataframe tbody tr th:only-of-type {\n",
       "        vertical-align: middle;\n",
       "    }\n",
       "\n",
       "    .dataframe tbody tr th {\n",
       "        vertical-align: top;\n",
       "    }\n",
       "\n",
       "    .dataframe thead th {\n",
       "        text-align: right;\n",
       "    }\n",
       "</style>\n",
       "<table border=\"1\" class=\"dataframe\">\n",
       "  <thead>\n",
       "    <tr style=\"text-align: right;\">\n",
       "      <th></th>\n",
       "      <th>A</th>\n",
       "      <th>B</th>\n",
       "      <th>C</th>\n",
       "      <th>D</th>\n",
       "      <th>E</th>\n",
       "      <th>F</th>\n",
       "      <th>G</th>\n",
       "      <th>H</th>\n",
       "      <th>I</th>\n",
       "      <th>J</th>\n",
       "    </tr>\n",
       "  </thead>\n",
       "  <tbody>\n",
       "    <tr>\n",
       "      <th>0</th>\n",
       "      <td>108.0</td>\n",
       "      <td>3.0</td>\n",
       "      <td>109.0</td>\n",
       "      <td>0.0</td>\n",
       "      <td>72.0</td>\n",
       "      <td>7.0</td>\n",
       "      <td>1.0</td>\n",
       "      <td>36.0</td>\n",
       "      <td>36.0</td>\n",
       "      <td>o</td>\n",
       "    </tr>\n",
       "    <tr>\n",
       "      <th>1</th>\n",
       "      <td>81.0</td>\n",
       "      <td>0.0</td>\n",
       "      <td>84.0</td>\n",
       "      <td>0.0</td>\n",
       "      <td>-14.0</td>\n",
       "      <td>-2.0</td>\n",
       "      <td>4.0</td>\n",
       "      <td>100.0</td>\n",
       "      <td>96.0</td>\n",
       "      <td>o</td>\n",
       "    </tr>\n",
       "    <tr>\n",
       "      <th>2</th>\n",
       "      <td>81.0</td>\n",
       "      <td>0.0</td>\n",
       "      <td>84.0</td>\n",
       "      <td>0.0</td>\n",
       "      <td>-20.0</td>\n",
       "      <td>16.0</td>\n",
       "      <td>4.0</td>\n",
       "      <td>105.0</td>\n",
       "      <td>102.0</td>\n",
       "      <td>o</td>\n",
       "    </tr>\n",
       "    <tr>\n",
       "      <th>3</th>\n",
       "      <td>76.0</td>\n",
       "      <td>-1.0</td>\n",
       "      <td>81.0</td>\n",
       "      <td>0.0</td>\n",
       "      <td>-42.0</td>\n",
       "      <td>-3.0</td>\n",
       "      <td>5.0</td>\n",
       "      <td>125.0</td>\n",
       "      <td>120.0</td>\n",
       "      <td>o</td>\n",
       "    </tr>\n",
       "    <tr>\n",
       "      <th>4</th>\n",
       "      <td>105.0</td>\n",
       "      <td>0.0</td>\n",
       "      <td>107.0</td>\n",
       "      <td>2.0</td>\n",
       "      <td>70.0</td>\n",
       "      <td>0.0</td>\n",
       "      <td>1.0</td>\n",
       "      <td>37.0</td>\n",
       "      <td>36.0</td>\n",
       "      <td>o</td>\n",
       "    </tr>\n",
       "  </tbody>\n",
       "</table>\n",
       "</div>"
      ],
      "text/plain": [
       "       A    B      C    D     E     F    G      H      I  J\n",
       "0  108.0  3.0  109.0  0.0  72.0   7.0  1.0   36.0   36.0  o\n",
       "1   81.0  0.0   84.0  0.0 -14.0  -2.0  4.0  100.0   96.0  o\n",
       "2   81.0  0.0   84.0  0.0 -20.0  16.0  4.0  105.0  102.0  o\n",
       "3   76.0 -1.0   81.0  0.0 -42.0  -3.0  5.0  125.0  120.0  o\n",
       "4  105.0  0.0  107.0  2.0  70.0   0.0  1.0   37.0   36.0  o"
      ]
     },
     "execution_count": 4,
     "metadata": {},
     "output_type": "execute_result"
    }
   ],
   "source": [
    "df = pd.read_csv(\"shuttle.csv\", header = None)\n",
    "df.columns = get_excel_columns(len(df.columns))\n",
    "print(df.shape)\n",
    "df.head()"
   ]
  },
  {
   "cell_type": "markdown",
   "metadata": {},
   "source": [
    "## Train-Test Split"
   ]
  },
  {
   "cell_type": "code",
   "execution_count": 5,
   "metadata": {},
   "outputs": [
    {
     "data": {
      "text/plain": [
       "array([[108.,   3., 109.,   0.,  72.,   7.,   1.,  36.,  36.],\n",
       "       [ 81.,   0.,  84.,   0., -14.,  -2.,   4., 100.,  96.],\n",
       "       [ 81.,   0.,  84.,   0., -20.,  16.,   4., 105., 102.],\n",
       "       [ 76.,  -1.,  81.,   0., -42.,  -3.,   5., 125., 120.],\n",
       "       [105.,   0., 107.,   2.,  70.,   0.,   1.,  37.,  36.]])"
      ]
     },
     "execution_count": 5,
     "metadata": {},
     "output_type": "execute_result"
    }
   ],
   "source": [
    "X = df[get_excel_columns(len(df.columns) - 1)].values.astype(float)\n",
    "X[0:5]"
   ]
  },
  {
   "cell_type": "code",
   "execution_count": 6,
   "metadata": {},
   "outputs": [
    {
     "data": {
      "text/plain": [
       "array([[ 7.22292697e+00,  8.39601067e-02,  2.76780064e+00,\n",
       "        -7.48433629e-03,  2.09700256e+00,  2.65343969e-02,\n",
       "        -3.56177703e+00, -5.97012096e-01,  1.97925322e+00],\n",
       "       [ 4.13837948e+00,  1.61137132e-02, -9.55332010e-02,\n",
       "        -7.48433629e-03, -3.31100839e+00, -2.41651309e-02,\n",
       "        -3.28828740e+00,  3.15615103e+00,  5.97772949e+00],\n",
       "       [ 4.13837948e+00,  1.61137132e-02, -9.55332010e-02,\n",
       "        -7.48433629e-03, -3.68831148e+00,  7.72339247e-02,\n",
       "        -3.28828740e+00,  3.44936690e+00,  6.37757712e+00],\n",
       "       [ 3.56716698e+00, -6.50175136e-03, -4.39133262e-01,\n",
       "        -7.48433629e-03, -5.07175614e+00, -2.97984118e-02,\n",
       "        -3.19712419e+00,  4.62223037e+00,  7.57712000e+00],\n",
       "       [ 6.88019947e+00,  1.61137132e-02,  2.53873393e+00,\n",
       "         4.61108246e-02,  1.97123487e+00, -1.28985692e-02,\n",
       "        -3.56177703e+00, -5.38368922e-01,  1.97925322e+00]])"
      ]
     },
     "execution_count": 6,
     "metadata": {},
     "output_type": "execute_result"
    }
   ],
   "source": [
    "scaler = StandardScaler()\n",
    "X = scaler.fit(X).transform(X.astype(float))\n",
    "X[0:5]"
   ]
  },
  {
   "cell_type": "code",
   "execution_count": 7,
   "metadata": {},
   "outputs": [
    {
     "data": {
      "text/plain": [
       "46464"
      ]
     },
     "execution_count": 7,
     "metadata": {},
     "output_type": "execute_result"
    }
   ],
   "source": [
    "y = df.iloc[:,-1]\n",
    "len(y)"
   ]
  },
  {
   "cell_type": "code",
   "execution_count": 8,
   "metadata": {},
   "outputs": [
    {
     "name": "stdout",
     "output_type": "stream",
     "text": [
      "Train set :  (37171, 9) (37171,)\n",
      "Test set :  (9293, 9) (9293,)\n"
     ]
    }
   ],
   "source": [
    "X_train, X_test, y_train, y_test = train_test_split(X,y,test_size = 0.2, random_state = 4)\n",
    "print(\"Train set : \", X_train.shape, y_train.shape)\n",
    "print(\"Test set : \", X_test.shape, y_test.shape)"
   ]
  },
  {
   "cell_type": "code",
   "execution_count": 10,
   "metadata": {},
   "outputs": [
    {
     "data": {
      "text/plain": [
       "HBOS(alpha=0.1, contamination=0.1, n_bins=20, tol=0.5)"
      ]
     },
     "execution_count": 10,
     "metadata": {},
     "output_type": "execute_result"
    }
   ],
   "source": [
    "hbos = HBOS(n_bins = 20)\n",
    "hbos.fit(X_train)"
   ]
  },
  {
   "cell_type": "code",
   "execution_count": 16,
   "metadata": {},
   "outputs": [
    {
     "data": {
      "text/plain": [
       "array([0, 0, 0, ..., 0, 0, 0])"
      ]
     },
     "execution_count": 16,
     "metadata": {},
     "output_type": "execute_result"
    }
   ],
   "source": [
    "y_hat = hbos.predict(X_test)\n",
    "y_hat"
   ]
  },
  {
   "cell_type": "code",
   "execution_count": 13,
   "metadata": {},
   "outputs": [
    {
     "data": {
      "text/plain": [
       "array([0, 0, 0, ..., 0, 0, 0])"
      ]
     },
     "execution_count": 13,
     "metadata": {},
     "output_type": "execute_result"
    }
   ],
   "source": [
    "y_test_array = y_test.to_numpy().astype(str)\n",
    "y_test_array = np.where(y_test_array == 'n', 0, 1)\n",
    "y_test_array"
   ]
  },
  {
   "cell_type": "code",
   "execution_count": 18,
   "metadata": {},
   "outputs": [
    {
     "data": {
      "text/plain": [
       "739"
      ]
     },
     "execution_count": 18,
     "metadata": {},
     "output_type": "execute_result"
    }
   ],
   "source": [
    "n_errors = np.count_nonzero(y_test_array != y_hat)\n",
    "n_errors"
   ]
  },
  {
   "cell_type": "markdown",
   "metadata": {},
   "source": [
    "## Testing on different n_bins"
   ]
  },
  {
   "cell_type": "code",
   "execution_count": 19,
   "metadata": {},
   "outputs": [
    {
     "name": "stdout",
     "output_type": "stream",
     "text": [
      "[186, 22, 771, 732, 216, 775, 785, 689, 768, 698, 427, 714, 711, 746, 570, 717, 797, 807, 781, 739, 747, 772, 783, 758, 704, 780, 759, 703, 772, 707, 788, 772, 777, 770, 771, 772, 769, 779, 771, 744, 777, 761, 782, 789, 774, 766, 791, 762, 778, 801]\n",
      "[0.9799849348972345, 0.997632626708275, 0.91703432691273, 0.9212310341116969, 0.9767566985903368, 0.9166038954051436, 0.9155278166361778, 0.9258581728182503, 0.9173571505434198, 0.924889701926181, 0.9540514365651566, 0.9231679758958355, 0.9234907995265254, 0.9197245238351447, 0.9386635101689443, 0.9228451522651459, 0.9142365221134187, 0.9131604433444528, 0.9159582481437641, 0.9204777789734209, 0.9196169159582481, 0.9169267190358334, 0.9157430323899709, 0.9184332293123857, 0.9242440546648014, 0.9160658560206607, 0.9183256214354891, 0.9243516625416981, 0.9169267190358334, 0.9239212310341117, 0.915204993005488, 0.9169267190358334, 0.9163886796513505, 0.9171419347896266, 0.91703432691273, 0.9169267190358334, 0.9172495426665231, 0.9161734638975573, 0.91703432691273, 0.9199397395889379, 0.9163886796513505, 0.9181104056816959, 0.9158506402668676, 0.9150973851285914, 0.9167115032820402, 0.917572366297213, 0.9148821693747983, 0.9180027978047993, 0.9162810717744538, 0.9138060906058324]\n"
     ]
    }
   ],
   "source": [
    "error_list = []\n",
    "accuracy_list = []\n",
    "\n",
    "for i in range(1,51):\n",
    "    h_baws = HBOS(n_bins = i)\n",
    "    h_baws.fit(X_train)\n",
    "    y_hat_i = h_baws.predict(X_test)\n",
    "    n_errors_i = np.count_nonzero(y_hat_i != y_test_array)\n",
    "    error_list.append(n_errors_i)\n",
    "    accuracy_list.append((len(y_test)-n_errors_i)/len(y_test))\n",
    "\n",
    "print(error_list)\n",
    "print(accuracy_list)"
   ]
  },
  {
   "cell_type": "code",
   "execution_count": 20,
   "metadata": {},
   "outputs": [
    {
     "data": {
      "image/png": "[encoded data removed]",
      "text/plain": [
       "<matplotlib.figure.Figure at 0x2a34719e7b8>"
      ]
     },
     "metadata": {
      "needs_background": "light"
     },
     "output_type": "display_data"
    }
   ],
   "source": [
    "lol = sns.lineplot(range(1,51), error_list)"
   ]
  },
  {
   "cell_type": "code",
   "execution_count": 21,
   "metadata": {},
   "outputs": [
    {
     "data": {
      "image/png": "[encoded data removed]",
      "text/plain": [
       "<matplotlib.figure.Figure at 0x2a3471e2dd8>"
      ]
     },
     "metadata": {
      "needs_background": "light"
     },
     "output_type": "display_data"
    }
   ],
   "source": [
    "lmao = sns.lineplot(range(1,51), accuracy_list)"
   ]
  },
  {
   "cell_type": "code",
   "execution_count": null,
   "metadata": {},
   "outputs": [],
   "source": []
  }
 ],
 "metadata": {
  "kernelspec": {
   "display_name": "Python 3",
   "language": "python",
   "name": "python3"
  },
  "language_info": {
   "codemirror_mode": {
    "name": "ipython",
    "version": 3
   },
   "file_extension": ".py",
   "mimetype": "text/x-python",
   "name": "python",
   "nbconvert_exporter": "python",
   "pygments_lexer": "ipython3",
   "version": "3.6.4"
  }
 },
 "nbformat": 4,
 "nbformat_minor": 2
}
