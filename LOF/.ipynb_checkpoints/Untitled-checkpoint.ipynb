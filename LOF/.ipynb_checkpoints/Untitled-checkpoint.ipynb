{
 "cells": [
  {
   "cell_type": "code",
   "execution_count": 18,
   "metadata": {},
   "outputs": [],
   "source": [
    "import numpy as np\n",
    "import pandas as pd\n",
    "import matplotlib.pyplot as plt\n",
    "from sklearn.neighbors import LocalOutlierFactor\n",
    "from sklearn.preprocessing import StandardScaler\n",
    "from sklearn.model_selection import train_test_split\n",
    "import sklearn.metrics as metrics\n",
    "import seaborn as sns"
   ]
  },
  {
   "cell_type": "code",
   "execution_count": 3,
   "metadata": {},
   "outputs": [],
   "source": [
    "def get_excel_columns(n_cols):\n",
    "    col_list = []\n",
    "    n = n_cols\n",
    "    alpha_list = [chr(c) for c in range(ord('A'), ord('Z') + 1)]\n",
    "    alpha_list.insert(0,'dummy')\n",
    "    for i in range(1,n+1):\n",
    "        col_i = \"\"\n",
    "        index_list=[]\n",
    "        p=[]\n",
    "        while i>26:\n",
    "            k = i%26\n",
    "            i = i//26\n",
    "            if k==0:\n",
    "                index_list.append(26)\n",
    "                i = i-1\n",
    "            else:\n",
    "                index_list.append(k)\n",
    "        index_list.append(int(i))\n",
    "        index_list.reverse()\n",
    "        for i in index_list:\n",
    "            p.append(alpha_list[i])\n",
    "            col_i = \"\".join(p)\n",
    "        col_list.append(col_i)\n",
    "    return col_list"
   ]
  },
  {
   "cell_type": "code",
   "execution_count": 4,
   "metadata": {},
   "outputs": [
    {
     "data": {
      "text/html": [
       "<div>\n",
       "<style scoped>\n",
       "    .dataframe tbody tr th:only-of-type {\n",
       "        vertical-align: middle;\n",
       "    }\n",
       "\n",
       "    .dataframe tbody tr th {\n",
       "        vertical-align: top;\n",
       "    }\n",
       "\n",
       "    .dataframe thead th {\n",
       "        text-align: right;\n",
       "    }\n",
       "</style>\n",
       "<table border=\"1\" class=\"dataframe\">\n",
       "  <thead>\n",
       "    <tr style=\"text-align: right;\">\n",
       "      <th></th>\n",
       "      <th>A</th>\n",
       "      <th>B</th>\n",
       "      <th>C</th>\n",
       "      <th>D</th>\n",
       "      <th>E</th>\n",
       "      <th>F</th>\n",
       "      <th>G</th>\n",
       "      <th>H</th>\n",
       "      <th>I</th>\n",
       "      <th>J</th>\n",
       "      <th>...</th>\n",
       "      <th>V</th>\n",
       "      <th>W</th>\n",
       "      <th>X</th>\n",
       "      <th>Y</th>\n",
       "      <th>Z</th>\n",
       "      <th>AA</th>\n",
       "      <th>AB</th>\n",
       "      <th>AC</th>\n",
       "      <th>AD</th>\n",
       "      <th>AE</th>\n",
       "    </tr>\n",
       "  </thead>\n",
       "  <tbody>\n",
       "    <tr>\n",
       "      <th>0</th>\n",
       "      <td>17.99</td>\n",
       "      <td>10.38</td>\n",
       "      <td>122.80</td>\n",
       "      <td>1001.0</td>\n",
       "      <td>0.11840</td>\n",
       "      <td>0.27760</td>\n",
       "      <td>0.3001</td>\n",
       "      <td>0.14710</td>\n",
       "      <td>0.2419</td>\n",
       "      <td>0.07871</td>\n",
       "      <td>...</td>\n",
       "      <td>17.33</td>\n",
       "      <td>184.60</td>\n",
       "      <td>2019.0</td>\n",
       "      <td>0.1622</td>\n",
       "      <td>0.6656</td>\n",
       "      <td>0.7119</td>\n",
       "      <td>0.2654</td>\n",
       "      <td>0.4601</td>\n",
       "      <td>0.11890</td>\n",
       "      <td>o</td>\n",
       "    </tr>\n",
       "    <tr>\n",
       "      <th>1</th>\n",
       "      <td>20.57</td>\n",
       "      <td>17.77</td>\n",
       "      <td>132.90</td>\n",
       "      <td>1326.0</td>\n",
       "      <td>0.08474</td>\n",
       "      <td>0.07864</td>\n",
       "      <td>0.0869</td>\n",
       "      <td>0.07017</td>\n",
       "      <td>0.1812</td>\n",
       "      <td>0.05667</td>\n",
       "      <td>...</td>\n",
       "      <td>23.41</td>\n",
       "      <td>158.80</td>\n",
       "      <td>1956.0</td>\n",
       "      <td>0.1238</td>\n",
       "      <td>0.1866</td>\n",
       "      <td>0.2416</td>\n",
       "      <td>0.1860</td>\n",
       "      <td>0.2750</td>\n",
       "      <td>0.08902</td>\n",
       "      <td>o</td>\n",
       "    </tr>\n",
       "    <tr>\n",
       "      <th>2</th>\n",
       "      <td>19.69</td>\n",
       "      <td>21.25</td>\n",
       "      <td>130.00</td>\n",
       "      <td>1203.0</td>\n",
       "      <td>0.10960</td>\n",
       "      <td>0.15990</td>\n",
       "      <td>0.1974</td>\n",
       "      <td>0.12790</td>\n",
       "      <td>0.2069</td>\n",
       "      <td>0.05999</td>\n",
       "      <td>...</td>\n",
       "      <td>25.53</td>\n",
       "      <td>152.50</td>\n",
       "      <td>1709.0</td>\n",
       "      <td>0.1444</td>\n",
       "      <td>0.4245</td>\n",
       "      <td>0.4504</td>\n",
       "      <td>0.2430</td>\n",
       "      <td>0.3613</td>\n",
       "      <td>0.08758</td>\n",
       "      <td>o</td>\n",
       "    </tr>\n",
       "    <tr>\n",
       "      <th>3</th>\n",
       "      <td>11.42</td>\n",
       "      <td>20.38</td>\n",
       "      <td>77.58</td>\n",
       "      <td>386.1</td>\n",
       "      <td>0.14250</td>\n",
       "      <td>0.28390</td>\n",
       "      <td>0.2414</td>\n",
       "      <td>0.10520</td>\n",
       "      <td>0.2597</td>\n",
       "      <td>0.09744</td>\n",
       "      <td>...</td>\n",
       "      <td>26.50</td>\n",
       "      <td>98.87</td>\n",
       "      <td>567.7</td>\n",
       "      <td>0.2098</td>\n",
       "      <td>0.8663</td>\n",
       "      <td>0.6869</td>\n",
       "      <td>0.2575</td>\n",
       "      <td>0.6638</td>\n",
       "      <td>0.17300</td>\n",
       "      <td>o</td>\n",
       "    </tr>\n",
       "    <tr>\n",
       "      <th>4</th>\n",
       "      <td>20.29</td>\n",
       "      <td>14.34</td>\n",
       "      <td>135.10</td>\n",
       "      <td>1297.0</td>\n",
       "      <td>0.10030</td>\n",
       "      <td>0.13280</td>\n",
       "      <td>0.1980</td>\n",
       "      <td>0.10430</td>\n",
       "      <td>0.1809</td>\n",
       "      <td>0.05883</td>\n",
       "      <td>...</td>\n",
       "      <td>16.67</td>\n",
       "      <td>152.20</td>\n",
       "      <td>1575.0</td>\n",
       "      <td>0.1374</td>\n",
       "      <td>0.2050</td>\n",
       "      <td>0.4000</td>\n",
       "      <td>0.1625</td>\n",
       "      <td>0.2364</td>\n",
       "      <td>0.07678</td>\n",
       "      <td>o</td>\n",
       "    </tr>\n",
       "  </tbody>\n",
       "</table>\n",
       "<p>5 rows × 31 columns</p>\n",
       "</div>"
      ],
      "text/plain": [
       "       A      B       C       D        E        F       G        H       I  \\\n",
       "0  17.99  10.38  122.80  1001.0  0.11840  0.27760  0.3001  0.14710  0.2419   \n",
       "1  20.57  17.77  132.90  1326.0  0.08474  0.07864  0.0869  0.07017  0.1812   \n",
       "2  19.69  21.25  130.00  1203.0  0.10960  0.15990  0.1974  0.12790  0.2069   \n",
       "3  11.42  20.38   77.58   386.1  0.14250  0.28390  0.2414  0.10520  0.2597   \n",
       "4  20.29  14.34  135.10  1297.0  0.10030  0.13280  0.1980  0.10430  0.1809   \n",
       "\n",
       "         J  ...      V       W       X       Y       Z      AA      AB  \\\n",
       "0  0.07871  ...  17.33  184.60  2019.0  0.1622  0.6656  0.7119  0.2654   \n",
       "1  0.05667  ...  23.41  158.80  1956.0  0.1238  0.1866  0.2416  0.1860   \n",
       "2  0.05999  ...  25.53  152.50  1709.0  0.1444  0.4245  0.4504  0.2430   \n",
       "3  0.09744  ...  26.50   98.87   567.7  0.2098  0.8663  0.6869  0.2575   \n",
       "4  0.05883  ...  16.67  152.20  1575.0  0.1374  0.2050  0.4000  0.1625   \n",
       "\n",
       "       AC       AD  AE  \n",
       "0  0.4601  0.11890   o  \n",
       "1  0.2750  0.08902   o  \n",
       "2  0.3613  0.08758   o  \n",
       "3  0.6638  0.17300   o  \n",
       "4  0.2364  0.07678   o  \n",
       "\n",
       "[5 rows x 31 columns]"
      ]
     },
     "execution_count": 4,
     "metadata": {},
     "output_type": "execute_result"
    }
   ],
   "source": [
    "df = pd.read_csv(\"winconsin_breast_data.csv\", header = None)\n",
    "df.columns = get_excel_columns(len(df.columns))\n",
    "df.head()"
   ]
  },
  {
   "cell_type": "markdown",
   "metadata": {},
   "source": [
    "# novelty = True"
   ]
  },
  {
   "cell_type": "code",
   "execution_count": 9,
   "metadata": {},
   "outputs": [
    {
     "data": {
      "text/plain": [
       "array([[ 0.66134193, -0.89619949,  0.66096853,  0.59644823,  0.33764602,\n",
       "        -0.03995185,  0.34399376,  1.02327623,  0.52031919, -0.76611318,\n",
       "        -0.17249861, -0.73012895,  0.00627697,  0.10146159,  0.4175362 ,\n",
       "        -0.43791873, -0.07857674,  0.55195625, -0.11866073, -0.47258714,\n",
       "         0.67183605, -0.7817602 ,  0.71827278,  0.61738922,  0.85806658,\n",
       "        -0.12480509,  0.40331312,  1.21604384,  0.49071625, -0.48320187],\n",
       "       [ 0.42532064, -0.55775258,  0.52060875,  0.30107492,  1.03249322,\n",
       "         1.14434114, -0.08189494,  0.17718021,  0.84126872,  0.70409837,\n",
       "        -0.84531806, -0.80026304, -0.76415422, -0.59140371, -1.02172627,\n",
       "        -0.17539033, -0.28955014, -0.61440337, -0.53624082, -0.43000158,\n",
       "         0.40861646, -0.55937488,  0.49227604,  0.24392784,  0.24876766,\n",
       "         0.75162817,  0.08223227, -0.12483265,  0.91039971,  0.08115302],\n",
       "       [-1.4094883 , -1.3775462 , -1.41911741, -1.26893308,  0.66753743,\n",
       "        -0.46407953, -0.40943912, -0.34637651,  0.24633788,  0.83634706,\n",
       "        -0.11371627, -0.40740925, -0.16378858, -0.51112798,  0.79474497,\n",
       "        -0.45470137, -0.20167007,  0.73759307, -0.0536731 , -0.24500994,\n",
       "        -1.43392066, -1.43264408, -1.44591213, -1.21659771,  0.30588943,\n",
       "        -0.67093748, -0.56204856, -0.37781918, -0.57775324, -0.16926419],\n",
       "       [ 0.39966616,  0.12164825,  0.28897676,  0.32531722, -0.23197126,\n",
       "        -1.17035446, -0.48949644,  0.08249442, -1.11574061, -0.62964379,\n",
       "        -0.85564469,  1.93359468, -1.00726806, -0.63115189, -0.93764565,\n",
       "        -1.0193772 , -0.39825196,  0.28751136,  0.8367957 , -0.65076509,\n",
       "        -0.10919257, -0.13991639, -0.23579659, -0.14758186, -1.37872688,\n",
       "        -1.27045977, -0.82109658, -0.66865785, -1.51646552, -1.14894518],\n",
       "       [-2.08060969, -0.27445998, -2.08103267, -1.7282609 , -0.50604591,\n",
       "        -0.60631905, -0.68740464, -1.09793865,  0.06629302,  0.27077286,\n",
       "        -1.07488692, -0.44187612, -1.0940129 , -1.09527033,  0.58437854,\n",
       "        -0.32643407, -0.32323239, -0.71475233,  0.7026723 , -0.37651413,\n",
       "        -1.98020918, -0.2935973 , -1.93859756, -1.5530369 ,  0.17736544,\n",
       "        -0.48831081, -0.68964609, -1.25536619,  0.75023066, -0.39158581]])"
      ]
     },
     "execution_count": 9,
     "metadata": {},
     "output_type": "execute_result"
    }
   ],
   "source": [
    "X = df[get_excel_columns(len(df.columns)-1)].values\n",
    "X = StandardScaler().fit(X).transform(X.astype(float))\n",
    "X[10:15]"
   ]
  },
  {
   "cell_type": "code",
   "execution_count": 7,
   "metadata": {},
   "outputs": [
    {
     "data": {
      "text/plain": [
       "array([[ 0.78372526, -0.89102379,  0.79591911,  0.77189147,  0.39564021,\n",
       "         0.03576508,  0.47445318,  1.39065367,  0.57783026, -0.77285292,\n",
       "        -0.12616423, -0.73387814,  0.07489882,  0.27458162,  0.41425571,\n",
       "        -0.41878967, -0.06469728,  0.57754159, -0.11215296, -0.45535287,\n",
       "         0.87446028, -0.77558743,  0.93973479,  0.93223098,  0.95271996,\n",
       "        -0.05836505,  0.51909648,  1.52055691,  0.65858779, -0.49707819],\n",
       "       [ 0.52500995, -0.55263766,  0.64071453,  0.42662393,  1.11879744,\n",
       "         1.39203815, -0.0087047 ,  0.33881598,  0.90884928,  0.77807861,\n",
       "        -0.8796436 , -0.80339411, -0.80162395, -0.73209055, -1.0139324 ,\n",
       "        -0.15054857, -0.27429752, -0.59075161, -0.54427725, -0.41275038,\n",
       "         0.56616001, -0.55139076,  0.67248836,  0.43826668,  0.31225291,\n",
       "         1.03125085,  0.16238934, -0.04516002,  1.1551543 ,  0.17323028],\n",
       "       [-1.48622034, -1.37228406, -1.50416192, -1.40858861,  0.73897233,\n",
       "        -0.44995336, -0.38029368, -0.31205186,  0.29525304,  0.91758824,\n",
       "        -0.06033486, -0.41400267, -0.11858547, -0.615457  ,  0.78856205,\n",
       "        -0.4359375 , -0.18698944,  0.76348615, -0.04490182, -0.22768517,\n",
       "        -1.59194182, -1.43177281, -1.61946435, -1.49351937,  0.3722967 ,\n",
       "        -0.73733808, -0.55337921, -0.34056776, -0.60561774, -0.12420097],\n",
       "       [ 0.49688872,  0.12664116,  0.38458456,  0.45496122, -0.19718487,\n",
       "        -1.25879177, -0.4711163 ,  0.22110584, -1.10955938, -0.62889085,\n",
       "        -0.89120822,  1.90636921, -1.07821558, -0.78984115, -0.93049873,\n",
       "        -1.01290083, -0.38229184,  0.3126583 ,  0.87658177, -0.63360168,\n",
       "        -0.04033231, -0.12851573, -0.18847449, -0.07956951, -1.39849461,\n",
       "        -1.4826875 , -0.84117053, -0.68017476, -1.71629548, -1.28781005],\n",
       "       [-2.22187168, -0.26939594, -2.23608298, -1.94550573, -0.48242609,\n",
       "        -0.61284855, -0.69563718, -1.24636825,  0.10955945,  0.32096195,\n",
       "        -1.13673396, -0.44816578, -1.17690556, -1.4641643 ,  0.57981429,\n",
       "        -0.30487907, -0.30776055, -0.69126692,  0.73778688, -0.35924165,\n",
       "        -2.23179122, -0.28344839, -2.20207636, -1.93851571,  0.23719818,\n",
       "        -0.5102895 , -0.69513463, -1.36526333,  0.96564341, -0.38826188]])"
      ]
     },
     "execution_count": 7,
     "metadata": {},
     "output_type": "execute_result"
    }
   ],
   "source": [
    "df_inliers = df.loc[df.iloc[:,-1] == 'n']\n",
    "X_inliers = df_inliers.iloc[:,0:-1].values.astype(float)\n",
    "X_inliers = StandardScaler().fit(X_inliers).transform(X_inliers.astype(float))\n",
    "X_inliers[0:5]"
   ]
  },
  {
   "cell_type": "code",
   "execution_count": 10,
   "metadata": {},
   "outputs": [
    {
     "data": {
      "text/plain": [
       "array([-1, -1, -1, -1, -1, -1, -1, -1, -1, -1,  1,  1,  1,  1,  1,  1,  1,\n",
       "        1,  1,  1,  1,  1,  1,  1,  1,  1,  1,  1,  1,  1,  1,  1,  1,  1,\n",
       "        1,  1,  1,  1,  1,  1,  1,  1,  1,  1,  1,  1,  1,  1,  1,  1,  1,\n",
       "        1,  1,  1,  1,  1,  1,  1,  1,  1,  1,  1,  1,  1,  1,  1,  1,  1,\n",
       "        1,  1,  1,  1,  1,  1,  1,  1,  1,  1,  1,  1,  1,  1,  1,  1,  1,\n",
       "        1,  1,  1,  1,  1,  1,  1,  1,  1,  1,  1,  1,  1,  1,  1,  1,  1,\n",
       "        1,  1,  1,  1,  1,  1,  1,  1,  1,  1,  1,  1,  1,  1,  1,  1,  1,\n",
       "        1,  1,  1,  1,  1,  1,  1,  1,  1,  1,  1,  1,  1,  1,  1,  1,  1,\n",
       "        1,  1,  1,  1,  1,  1,  1,  1,  1,  1,  1,  1,  1,  1,  1,  1,  1,\n",
       "        1,  1,  1,  1,  1,  1,  1,  1,  1,  1,  1,  1,  1,  1,  1,  1,  1,\n",
       "        1,  1,  1,  1,  1,  1,  1,  1,  1,  1,  1,  1,  1,  1,  1,  1,  1,\n",
       "        1,  1,  1,  1,  1,  1,  1,  1,  1,  1,  1,  1,  1,  1,  1,  1,  1,\n",
       "        1,  1,  1,  1,  1,  1,  1,  1,  1,  1,  1,  1,  1,  1,  1,  1,  1,\n",
       "        1,  1,  1,  1,  1,  1,  1,  1,  1,  1,  1,  1,  1,  1,  1,  1,  1,\n",
       "        1,  1,  1,  1,  1,  1,  1,  1,  1,  1,  1,  1,  1,  1,  1,  1,  1,\n",
       "        1,  1,  1,  1,  1,  1,  1,  1,  1,  1,  1,  1,  1,  1,  1,  1,  1,\n",
       "        1,  1,  1,  1,  1,  1,  1,  1,  1,  1,  1,  1,  1,  1,  1,  1,  1,\n",
       "        1,  1,  1,  1,  1,  1,  1,  1,  1,  1,  1,  1,  1,  1,  1,  1,  1,\n",
       "        1,  1,  1,  1,  1,  1,  1,  1,  1,  1,  1,  1,  1,  1,  1,  1,  1,\n",
       "        1,  1,  1,  1,  1,  1,  1,  1,  1,  1,  1,  1,  1,  1,  1,  1,  1,\n",
       "        1,  1,  1,  1,  1,  1,  1,  1,  1,  1,  1,  1,  1,  1,  1,  1,  1,\n",
       "        1,  1,  1,  1,  1,  1,  1,  1,  1,  1])"
      ]
     },
     "execution_count": 10,
     "metadata": {},
     "output_type": "execute_result"
    }
   ],
   "source": [
    "y = df.iloc[:,-1]\n",
    "y_array = y.to_numpy().astype(str)\n",
    "y_array = np.where(y_array == 'o', -1, 1)\n",
    "y_array"
   ]
  },
  {
   "cell_type": "code",
   "execution_count": 21,
   "metadata": {},
   "outputs": [
    {
     "data": {
      "text/plain": [
       "[<matplotlib.lines.Line2D at 0x134d7f04710>]"
      ]
     },
     "execution_count": 21,
     "metadata": {},
     "output_type": "execute_result"
    },
    {
     "data": {
      "image/png": "[encoded data removed]",
      "text/plain": [
       "<matplotlib.figure.Figure at 0x134d8223198>"
      ]
     },
     "metadata": {
      "needs_background": "light"
     },
     "output_type": "display_data"
    }
   ],
   "source": [
    "plt.figure(figsize = (15,10))\n",
    "accuracy_list = []\n",
    "\n",
    "for i in range(1,100):\n",
    "    lof = LocalOutlierFactor(n_neighbors = i, contamination = 0.09, novelty = True)\n",
    "    lof.fit(X_inliers)\n",
    "    y_hat = lof.predict(X)\n",
    "    accuracy_list.append((len(y_hat)-np.count_nonzero(y_hat != y_array))/len(y_hat)*100)\n",
    "\n",
    "plt.plot(range(1,100), accuracy_list)\n",
    "    "
   ]
  },
  {
   "cell_type": "code",
   "execution_count": 23,
   "metadata": {},
   "outputs": [
    {
     "name": "stdout",
     "output_type": "stream",
     "text": [
      "Train Set:  (256, 30) (256,)\n",
      "Test Set:  (111, 30) (111,)\n"
     ]
    }
   ],
   "source": [
    "X_train, X_test, y_train, y_test = train_test_split(X, y, test_size = 0.3, random_state = 4)\n",
    "print(\"Train Set: \", X_train.shape, y_train.shape)\n",
    "print(\"Test Set: \", X_test.shape, y_test.shape)"
   ]
  },
  {
   "cell_type": "code",
   "execution_count": 27,
   "metadata": {},
   "outputs": [],
   "source": [
    "clf = LocalOutlierFactor(n_neighbors = 20, contamination = 'auto', novelty = True)"
   ]
  },
  {
   "cell_type": "code",
   "execution_count": 28,
   "metadata": {},
   "outputs": [
    {
     "data": {
      "text/plain": [
       "LocalOutlierFactor(novelty=True)"
      ]
     },
     "execution_count": 28,
     "metadata": {},
     "output_type": "execute_result"
    }
   ],
   "source": [
    "clf.fit(X_test)"
   ]
  },
  {
   "cell_type": "code",
   "execution_count": 29,
   "metadata": {},
   "outputs": [],
   "source": [
    "y_pred = clf.predict(X)"
   ]
  },
  {
   "cell_type": "code",
   "execution_count": 30,
   "metadata": {},
   "outputs": [
    {
     "data": {
      "text/plain": [
       "0.9482288828337875"
      ]
     },
     "execution_count": 30,
     "metadata": {},
     "output_type": "execute_result"
    }
   ],
   "source": [
    "metrics.accuracy_score(y_array, y_pred)"
   ]
  },
  {
   "cell_type": "code",
   "execution_count": 35,
   "metadata": {},
   "outputs": [
    {
     "ename": "AttributeError",
     "evalue": "'LocalOutlierFactor' object has no attribute 'score'",
     "output_type": "error",
     "traceback": [
      "\u001b[1;31m---------------------------------------------------------------------------\u001b[0m",
      "\u001b[1;31mAttributeError\u001b[0m                            Traceback (most recent call last)",
      "\u001b[1;32m<ipython-input-35-23d4850ed1f3>\u001b[0m in \u001b[0;36m<module>\u001b[1;34m()\u001b[0m\n\u001b[0;32m      1\u001b[0m \u001b[0mr_probs\u001b[0m \u001b[1;33m=\u001b[0m \u001b[1;33m[\u001b[0m\u001b[1;36m0\u001b[0m \u001b[1;32mfor\u001b[0m \u001b[0m_\u001b[0m \u001b[1;32min\u001b[0m \u001b[0mrange\u001b[0m\u001b[1;33m(\u001b[0m\u001b[0mlen\u001b[0m\u001b[1;33m(\u001b[0m\u001b[0my_array\u001b[0m\u001b[1;33m)\u001b[0m\u001b[1;33m)\u001b[0m\u001b[1;33m]\u001b[0m\u001b[1;33m\u001b[0m\u001b[0m\n\u001b[1;32m----> 2\u001b[1;33m \u001b[0mclf\u001b[0m\u001b[1;33m.\u001b[0m\u001b[0mscore\u001b[0m\u001b[1;33m(\u001b[0m\u001b[0mX_test\u001b[0m\u001b[1;33m)\u001b[0m\u001b[1;33m\u001b[0m\u001b[0m\n\u001b[0m",
      "\u001b[1;31mAttributeError\u001b[0m: 'LocalOutlierFactor' object has no attribute 'score'"
     ]
    }
   ],
   "source": [
    "r_probs = [0 for _ in range(len(y_array))]\n",
    "clf.score(X_test)"
   ]
  },
  {
   "cell_type": "code",
   "execution_count": null,
   "metadata": {},
   "outputs": [],
   "source": []
  }
 ],
 "metadata": {
  "kernelspec": {
   "display_name": "Python 3",
   "language": "python",
   "name": "python3"
  },
  "language_info": {
   "codemirror_mode": {
    "name": "ipython",
    "version": 3
   },
   "file_extension": ".py",
   "mimetype": "text/x-python",
   "name": "python",
   "nbconvert_exporter": "python",
   "pygments_lexer": "ipython3",
   "version": "3.6.4"
  }
 },
 "nbformat": 4,
 "nbformat_minor": 2
}
